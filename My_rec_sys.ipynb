{
 "cells": [
  {
   "cell_type": "markdown",
   "metadata": {},
   "source": [
    "#### Importing Libraries "
   ]
  },
  {
   "cell_type": "code",
   "execution_count": 110,
   "metadata": {},
   "outputs": [],
   "source": [
    "#Data Manipulation \n",
    "#===============================================\n",
    "import numpy as np \n",
    "import pandas as pd \n",
    "#Regex \n",
    "#===============================================\n",
    "import re \n",
    "#NLTK\n",
    "#===============================================\n",
    "import nltk\n",
    "from nltk.stem.porter import PorterStemmer\n",
    "#nltk.download('punkt')\n",
    "\n",
    "#Vectorizer\n",
    "#===============================================\n",
    "from sklearn.feature_extraction.text import TfidfVectorizer\n",
    "\n",
    "#similarity_score\n",
    "#===============================================\n",
    "from sklearn.metrics.pairwise import cosine_similarity\n",
    "\n",
    "#Pickel\n",
    "#===============================================\n",
    "import pickle"
   ]
  },
  {
   "cell_type": "markdown",
   "metadata": {},
   "source": [
    "#### Read Data"
   ]
  },
  {
   "cell_type": "code",
   "execution_count": 89,
   "metadata": {},
   "outputs": [],
   "source": [
    "df=pd.read_csv('E:/My_Project/CodeAlpha/Task 1/My_Data/spotify_millsongdata.csv')"
   ]
  },
  {
   "cell_type": "code",
   "execution_count": 90,
   "metadata": {},
   "outputs": [
    {
     "data": {
      "text/html": [
       "<div>\n",
       "<style scoped>\n",
       "    .dataframe tbody tr th:only-of-type {\n",
       "        vertical-align: middle;\n",
       "    }\n",
       "\n",
       "    .dataframe tbody tr th {\n",
       "        vertical-align: top;\n",
       "    }\n",
       "\n",
       "    .dataframe thead th {\n",
       "        text-align: right;\n",
       "    }\n",
       "</style>\n",
       "<table border=\"1\" class=\"dataframe\">\n",
       "  <thead>\n",
       "    <tr style=\"text-align: right;\">\n",
       "      <th></th>\n",
       "      <th>artist</th>\n",
       "      <th>song</th>\n",
       "      <th>link</th>\n",
       "      <th>text</th>\n",
       "    </tr>\n",
       "  </thead>\n",
       "  <tbody>\n",
       "    <tr>\n",
       "      <th>0</th>\n",
       "      <td>ABBA</td>\n",
       "      <td>Ahe's My Kind Of Girl</td>\n",
       "      <td>/a/abba/ahes+my+kind+of+girl_20598417.html</td>\n",
       "      <td>Look at her face, it's a wonderful face  \\r\\nA...</td>\n",
       "    </tr>\n",
       "    <tr>\n",
       "      <th>1</th>\n",
       "      <td>ABBA</td>\n",
       "      <td>Andante, Andante</td>\n",
       "      <td>/a/abba/andante+andante_20002708.html</td>\n",
       "      <td>Take it easy with me, please  \\r\\nTouch me gen...</td>\n",
       "    </tr>\n",
       "    <tr>\n",
       "      <th>2</th>\n",
       "      <td>ABBA</td>\n",
       "      <td>As Good As New</td>\n",
       "      <td>/a/abba/as+good+as+new_20003033.html</td>\n",
       "      <td>I'll never know why I had to go  \\r\\nWhy I had...</td>\n",
       "    </tr>\n",
       "    <tr>\n",
       "      <th>3</th>\n",
       "      <td>ABBA</td>\n",
       "      <td>Bang</td>\n",
       "      <td>/a/abba/bang_20598415.html</td>\n",
       "      <td>Making somebody happy is a question of give an...</td>\n",
       "    </tr>\n",
       "    <tr>\n",
       "      <th>4</th>\n",
       "      <td>ABBA</td>\n",
       "      <td>Bang-A-Boomerang</td>\n",
       "      <td>/a/abba/bang+a+boomerang_20002668.html</td>\n",
       "      <td>Making somebody happy is a question of give an...</td>\n",
       "    </tr>\n",
       "  </tbody>\n",
       "</table>\n",
       "</div>"
      ],
      "text/plain": [
       "  artist                   song                                        link  \\\n",
       "0   ABBA  Ahe's My Kind Of Girl  /a/abba/ahes+my+kind+of+girl_20598417.html   \n",
       "1   ABBA       Andante, Andante       /a/abba/andante+andante_20002708.html   \n",
       "2   ABBA         As Good As New        /a/abba/as+good+as+new_20003033.html   \n",
       "3   ABBA                   Bang                  /a/abba/bang_20598415.html   \n",
       "4   ABBA       Bang-A-Boomerang      /a/abba/bang+a+boomerang_20002668.html   \n",
       "\n",
       "                                                text  \n",
       "0  Look at her face, it's a wonderful face  \\r\\nA...  \n",
       "1  Take it easy with me, please  \\r\\nTouch me gen...  \n",
       "2  I'll never know why I had to go  \\r\\nWhy I had...  \n",
       "3  Making somebody happy is a question of give an...  \n",
       "4  Making somebody happy is a question of give an...  "
      ]
     },
     "execution_count": 90,
     "metadata": {},
     "output_type": "execute_result"
    }
   ],
   "source": [
    "df.head()"
   ]
  },
  {
   "cell_type": "code",
   "execution_count": 91,
   "metadata": {},
   "outputs": [
    {
     "data": {
      "text/html": [
       "<div>\n",
       "<style scoped>\n",
       "    .dataframe tbody tr th:only-of-type {\n",
       "        vertical-align: middle;\n",
       "    }\n",
       "\n",
       "    .dataframe tbody tr th {\n",
       "        vertical-align: top;\n",
       "    }\n",
       "\n",
       "    .dataframe thead th {\n",
       "        text-align: right;\n",
       "    }\n",
       "</style>\n",
       "<table border=\"1\" class=\"dataframe\">\n",
       "  <thead>\n",
       "    <tr style=\"text-align: right;\">\n",
       "      <th></th>\n",
       "      <th>artist</th>\n",
       "      <th>song</th>\n",
       "      <th>link</th>\n",
       "      <th>text</th>\n",
       "    </tr>\n",
       "  </thead>\n",
       "  <tbody>\n",
       "    <tr>\n",
       "      <th>57645</th>\n",
       "      <td>Ziggy Marley</td>\n",
       "      <td>Good Old Days</td>\n",
       "      <td>/z/ziggy+marley/good+old+days_10198588.html</td>\n",
       "      <td>Irie days come on play  \\r\\nLet the angels fly...</td>\n",
       "    </tr>\n",
       "    <tr>\n",
       "      <th>57646</th>\n",
       "      <td>Ziggy Marley</td>\n",
       "      <td>Hand To Mouth</td>\n",
       "      <td>/z/ziggy+marley/hand+to+mouth_20531167.html</td>\n",
       "      <td>Power to the workers  \\r\\nMore power  \\r\\nPowe...</td>\n",
       "    </tr>\n",
       "    <tr>\n",
       "      <th>57647</th>\n",
       "      <td>Zwan</td>\n",
       "      <td>Come With Me</td>\n",
       "      <td>/z/zwan/come+with+me_20148981.html</td>\n",
       "      <td>all you need  \\r\\nis something i'll believe  \\...</td>\n",
       "    </tr>\n",
       "    <tr>\n",
       "      <th>57648</th>\n",
       "      <td>Zwan</td>\n",
       "      <td>Desire</td>\n",
       "      <td>/z/zwan/desire_20148986.html</td>\n",
       "      <td>northern star  \\r\\nam i frightened  \\r\\nwhere ...</td>\n",
       "    </tr>\n",
       "    <tr>\n",
       "      <th>57649</th>\n",
       "      <td>Zwan</td>\n",
       "      <td>Heartsong</td>\n",
       "      <td>/z/zwan/heartsong_20148991.html</td>\n",
       "      <td>come in  \\r\\nmake yourself at home  \\r\\ni'm a ...</td>\n",
       "    </tr>\n",
       "  </tbody>\n",
       "</table>\n",
       "</div>"
      ],
      "text/plain": [
       "             artist           song  \\\n",
       "57645  Ziggy Marley  Good Old Days   \n",
       "57646  Ziggy Marley  Hand To Mouth   \n",
       "57647          Zwan   Come With Me   \n",
       "57648          Zwan         Desire   \n",
       "57649          Zwan      Heartsong   \n",
       "\n",
       "                                              link  \\\n",
       "57645  /z/ziggy+marley/good+old+days_10198588.html   \n",
       "57646  /z/ziggy+marley/hand+to+mouth_20531167.html   \n",
       "57647           /z/zwan/come+with+me_20148981.html   \n",
       "57648                 /z/zwan/desire_20148986.html   \n",
       "57649              /z/zwan/heartsong_20148991.html   \n",
       "\n",
       "                                                    text  \n",
       "57645  Irie days come on play  \\r\\nLet the angels fly...  \n",
       "57646  Power to the workers  \\r\\nMore power  \\r\\nPowe...  \n",
       "57647  all you need  \\r\\nis something i'll believe  \\...  \n",
       "57648  northern star  \\r\\nam i frightened  \\r\\nwhere ...  \n",
       "57649  come in  \\r\\nmake yourself at home  \\r\\ni'm a ...  "
      ]
     },
     "execution_count": 91,
     "metadata": {},
     "output_type": "execute_result"
    }
   ],
   "source": [
    "df.tail()"
   ]
  },
  {
   "cell_type": "code",
   "execution_count": 92,
   "metadata": {},
   "outputs": [
    {
     "data": {
      "text/plain": [
       "(57650, 4)"
      ]
     },
     "execution_count": 92,
     "metadata": {},
     "output_type": "execute_result"
    }
   ],
   "source": [
    "df.shape"
   ]
  },
  {
   "cell_type": "code",
   "execution_count": 93,
   "metadata": {},
   "outputs": [
    {
     "data": {
      "text/plain": [
       "artist    0\n",
       "song      0\n",
       "link      0\n",
       "text      0\n",
       "dtype: int64"
      ]
     },
     "execution_count": 93,
     "metadata": {},
     "output_type": "execute_result"
    }
   ],
   "source": [
    "df.isnull().sum()"
   ]
  },
  {
   "cell_type": "code",
   "execution_count": 94,
   "metadata": {},
   "outputs": [],
   "source": [
    "df=df.sample(10000).drop(columns=['link'],axis=1).reset_index(drop=True)"
   ]
  },
  {
   "cell_type": "code",
   "execution_count": 95,
   "metadata": {},
   "outputs": [
    {
     "data": {
      "text/html": [
       "<div>\n",
       "<style scoped>\n",
       "    .dataframe tbody tr th:only-of-type {\n",
       "        vertical-align: middle;\n",
       "    }\n",
       "\n",
       "    .dataframe tbody tr th {\n",
       "        vertical-align: top;\n",
       "    }\n",
       "\n",
       "    .dataframe thead th {\n",
       "        text-align: right;\n",
       "    }\n",
       "</style>\n",
       "<table border=\"1\" class=\"dataframe\">\n",
       "  <thead>\n",
       "    <tr style=\"text-align: right;\">\n",
       "      <th></th>\n",
       "      <th>artist</th>\n",
       "      <th>song</th>\n",
       "      <th>text</th>\n",
       "    </tr>\n",
       "  </thead>\n",
       "  <tbody>\n",
       "    <tr>\n",
       "      <th>0</th>\n",
       "      <td>Snoop Dogg</td>\n",
       "      <td>I'm Threw Witchu</td>\n",
       "      <td>[Snoop Dogg]  \\r\\nYeah man, this is another 9 ...</td>\n",
       "    </tr>\n",
       "    <tr>\n",
       "      <th>1</th>\n",
       "      <td>Bruno Mars</td>\n",
       "      <td>Madly In Love With You</td>\n",
       "      <td>Madly In Love With You  \\r\\n  \\r\\nSee you down...</td>\n",
       "    </tr>\n",
       "    <tr>\n",
       "      <th>2</th>\n",
       "      <td>Chicago</td>\n",
       "      <td>Christmas Time Is Here</td>\n",
       "      <td>Christmas time is here  \\r\\nHappiness and chee...</td>\n",
       "    </tr>\n",
       "    <tr>\n",
       "      <th>3</th>\n",
       "      <td>Boney M.</td>\n",
       "      <td>Young, Free And Single</td>\n",
       "      <td>Radio speaker: (not on album version)  \\r\\nWel...</td>\n",
       "    </tr>\n",
       "    <tr>\n",
       "      <th>4</th>\n",
       "      <td>INXS</td>\n",
       "      <td>Doctor</td>\n",
       "      <td>We're all running fast tonight  \\r\\nRocket sho...</td>\n",
       "    </tr>\n",
       "  </tbody>\n",
       "</table>\n",
       "</div>"
      ],
      "text/plain": [
       "       artist                    song  \\\n",
       "0  Snoop Dogg        I'm Threw Witchu   \n",
       "1  Bruno Mars  Madly In Love With You   \n",
       "2     Chicago  Christmas Time Is Here   \n",
       "3    Boney M.  Young, Free And Single   \n",
       "4        INXS                  Doctor   \n",
       "\n",
       "                                                text  \n",
       "0  [Snoop Dogg]  \\r\\nYeah man, this is another 9 ...  \n",
       "1  Madly In Love With You  \\r\\n  \\r\\nSee you down...  \n",
       "2  Christmas time is here  \\r\\nHappiness and chee...  \n",
       "3  Radio speaker: (not on album version)  \\r\\nWel...  \n",
       "4  We're all running fast tonight  \\r\\nRocket sho...  "
      ]
     },
     "execution_count": 95,
     "metadata": {},
     "output_type": "execute_result"
    }
   ],
   "source": [
    "df.head()"
   ]
  },
  {
   "cell_type": "code",
   "execution_count": 96,
   "metadata": {},
   "outputs": [
    {
     "data": {
      "text/plain": [
       "\"[Snoop Dogg]  \\r\\nYeah man, this is another 9 inch dick classic  \\r\\nWe want to dedicate this one, to all the fellas  \\r\\nWho got a hard head bitch, who just won't listen  \\r\\nWhy'know? The best thing to do, is leave her  \\r\\nDon't hit her, shake that ho (bitch I'm gone!)  \\r\\n  \\r\\n[Chorus: Soopafly]  \\r\\nBitch I'm gone, I can't take it no mo'  \\r\\nI can't get through to you  \\r\\nThere's nothing I can say that you seem to understand  \\r\\nBitch I'm gone, I'm out oh yeah yeah yeah  \\r\\nI'm through witchu  \\r\\nOh I'm through witchu, yeah  \\r\\n  \\r\\n[Soopafly]  \\r\\nI knew that you, was a ho back then  \\r\\nAnd bitch you're still one now  \\r\\nYa like to bust, nuts in your face  \\r\\nBut with that big-ass mouth  \\r\\nYou need to shut the fuck up, you talk too much  \\r\\nI told you once before, yeah  \\r\\nThat pimping don't, like to tell you twice  \\r\\nSo I'm walking out that door  \\r\\n  \\r\\n[Chorus]  \\r\\n  \\r\\n[Soopafly]  \\r\\n(Bitch I'm gone) Bitch I'm through witchu  \\r\\nI'm through witchu, cause I refuse to lose  \\r\\nI can't be locked in your world  \\r\\n(Bitch I'm gone) I need to breath, I got to roll  \\r\\n(I'm through witchu) Ain't no way  \\r\\nI can stay another day witchu  \\r\\n  \\r\\nBye bye bitch, and wit all the other pussy, yeah  \\r\\nA nigga got besides yo' big head good and butt fo' ugly kids  \\r\\nStill living with ya grandmama bucking mouth ass  \\r\\nYou should of known, you was fucking with a mack (MACK)  \\r\\nInstead of stepping your game up, you got pushed way to the back  \\r\\n(Step off, step on back)  \\r\\nI seen yo' expression, when you seen me pimping in the club  \\r\\nIt looked like, it looked like you wanted to break down, down and cry  \\r\\nBut I just didn't give a damn, I didn't give a damn, no no I didn't  \\r\\nCause bitches ain't shit, anyway, so don't even ask me why  \\r\\n  \\r\\n[Soopafly]  \\r\\nBitch I'm gone, I'm I'm gone haha, yes I am, I got to get ta  \\r\\nI can't get through to you  \\r\\nGot to get ta, got to get ta hell outta here, oh yeah  \\r\\nBitch I'm gone, oh bitch a, I got too many bitches, anyway  \\r\\nI'm through wit'chu  \\r\\nTo be, fooling witchu, ugly, ugly, ugly ass  \\r\\n  \\r\\nOh, break it down (break it down)  \\r\\nOh we got to break it down (break it down, break it down)  \\r\\nWhoa, aw yeah yeah yeah yeah  \\r\\n  \\r\\nHey hey hey, what's up baby?  \\r\\nCome on in, sit down, what'chu got, what'chu got there?  \\r\\nWhy'now, I seen you today baby, you know what?  \\r\\nJust sit the fuck down bitch!  \\r\\nI ain't playing no God damn game wit'chu right now bitch  \\r\\nYou know what I mean? There's a lot of time and effort up in this shit, You\\r\\nknow what I mean?  \\r\\nWant to tell you a lil' something like this bitch  \\r\\nI got everything, you don't have nothing  \\r\\nBitch, I ain't believing a motherfucking word you say bitch  \\r\\nGet yo' shit, and get the fuck outta here  \\r\\nEven though it's yo' motherfucking house, get the fuck up outta here  \\r\\nYou know what? I'm leaving this motherfucker  \\r\\nGot a fo' bedroom upstairs, I'm moving your sister in bitch  \\r\\n  \\r\\n[Chorus]  \\r\\n  \\r\\nAnd I gotta protective order against yo' punk bitch-ass  \\r\\nSo we goin' partying all night long  \\r\\nAnd your sister a twin so the bitch is the same bitch  \\r\\nI'm out  \\r\\n  \\r\\nAw, my car is parked right outside  \\r\\nI got a full tank of gas, and away I go  \\r\\n  \\r\\n[Snoop]  \\r\\nBye bye\\r\\n\\r\\n\""
      ]
     },
     "execution_count": 96,
     "metadata": {},
     "output_type": "execute_result"
    }
   ],
   "source": [
    "df['text'][0]"
   ]
  },
  {
   "cell_type": "markdown",
   "metadata": {},
   "source": [
    "\n",
    "#### Text Preprocessing "
   ]
  },
  {
   "cell_type": "markdown",
   "metadata": {},
   "source": [
    "##### Extract the Lower Case and apply some regex "
   ]
  },
  {
   "cell_type": "code",
   "execution_count": 97,
   "metadata": {},
   "outputs": [],
   "source": [
    "df['text']=df['text'].str.lower().replace(r'^\\w\\s','').replace(r'\\n',' ',regex=True)#\\w : word \\s : space "
   ]
  },
  {
   "cell_type": "code",
   "execution_count": 98,
   "metadata": {},
   "outputs": [
    {
     "data": {
      "text/html": [
       "<div>\n",
       "<style scoped>\n",
       "    .dataframe tbody tr th:only-of-type {\n",
       "        vertical-align: middle;\n",
       "    }\n",
       "\n",
       "    .dataframe tbody tr th {\n",
       "        vertical-align: top;\n",
       "    }\n",
       "\n",
       "    .dataframe thead th {\n",
       "        text-align: right;\n",
       "    }\n",
       "</style>\n",
       "<table border=\"1\" class=\"dataframe\">\n",
       "  <thead>\n",
       "    <tr style=\"text-align: right;\">\n",
       "      <th></th>\n",
       "      <th>artist</th>\n",
       "      <th>song</th>\n",
       "      <th>text</th>\n",
       "    </tr>\n",
       "  </thead>\n",
       "  <tbody>\n",
       "    <tr>\n",
       "      <th>9995</th>\n",
       "      <td>Loretta Lynn</td>\n",
       "      <td>Get What'cha Got And Go</td>\n",
       "      <td>a pretty boy charlie's the name that you've be...</td>\n",
       "    </tr>\n",
       "    <tr>\n",
       "      <th>9996</th>\n",
       "      <td>Stevie Wonder</td>\n",
       "      <td>Part-Time Lover</td>\n",
       "      <td>call up, ring once, hang up the phone  \\r to l...</td>\n",
       "    </tr>\n",
       "    <tr>\n",
       "      <th>9997</th>\n",
       "      <td>Neil Young</td>\n",
       "      <td>Barstool Blues</td>\n",
       "      <td>if i could hold on  \\r to just one thought  \\r...</td>\n",
       "    </tr>\n",
       "    <tr>\n",
       "      <th>9998</th>\n",
       "      <td>Vince Gill</td>\n",
       "      <td>Don't Pretend With Me</td>\n",
       "      <td>they say you'll lie, they say you'll cheat  \\r...</td>\n",
       "    </tr>\n",
       "    <tr>\n",
       "      <th>9999</th>\n",
       "      <td>Weezer</td>\n",
       "      <td>In The Garage</td>\n",
       "      <td>i've got a dungeon master's guide  \\r i've got...</td>\n",
       "    </tr>\n",
       "  </tbody>\n",
       "</table>\n",
       "</div>"
      ],
      "text/plain": [
       "             artist                     song  \\\n",
       "9995   Loretta Lynn  Get What'cha Got And Go   \n",
       "9996  Stevie Wonder          Part-Time Lover   \n",
       "9997     Neil Young           Barstool Blues   \n",
       "9998     Vince Gill    Don't Pretend With Me   \n",
       "9999         Weezer            In The Garage   \n",
       "\n",
       "                                                   text  \n",
       "9995  a pretty boy charlie's the name that you've be...  \n",
       "9996  call up, ring once, hang up the phone  \\r to l...  \n",
       "9997  if i could hold on  \\r to just one thought  \\r...  \n",
       "9998  they say you'll lie, they say you'll cheat  \\r...  \n",
       "9999  i've got a dungeon master's guide  \\r i've got...  "
      ]
     },
     "execution_count": 98,
     "metadata": {},
     "output_type": "execute_result"
    }
   ],
   "source": [
    "df.tail()"
   ]
  },
  {
   "cell_type": "markdown",
   "metadata": {},
   "source": [
    "#### Steamming and Text Vectorization  "
   ]
  },
  {
   "cell_type": "code",
   "execution_count": 99,
   "metadata": {},
   "outputs": [],
   "source": [
    "stemmer=PorterStemmer()\n"
   ]
  },
  {
   "cell_type": "code",
   "execution_count": 100,
   "metadata": {},
   "outputs": [],
   "source": [
    "def token(txt):\n",
    "    token=nltk.word_tokenize(txt)\n",
    "    a=[stemmer.stem(w) for w in token]\n",
    "    return \" \".join(a)"
   ]
  },
  {
   "cell_type": "code",
   "execution_count": 101,
   "metadata": {},
   "outputs": [],
   "source": [
    "df['text']=df['text'].apply(lambda x:token(x))"
   ]
  },
  {
   "cell_type": "code",
   "execution_count": 102,
   "metadata": {},
   "outputs": [],
   "source": [
    "tfid=TfidfVectorizer(analyzer='word',stop_words='english')"
   ]
  },
  {
   "cell_type": "code",
   "execution_count": 103,
   "metadata": {},
   "outputs": [],
   "source": [
    "matrix=tfid.fit_transform(df['text'])"
   ]
  },
  {
   "cell_type": "code",
   "execution_count": 104,
   "metadata": {},
   "outputs": [],
   "source": [
    "similar=cosine_similarity(matrix)"
   ]
  },
  {
   "cell_type": "code",
   "execution_count": 105,
   "metadata": {},
   "outputs": [
    {
     "data": {
      "text/plain": [
       "array([1.        , 0.02933386, 0.0091598 , ..., 0.03304134, 0.03433584,\n",
       "       0.0660733 ])"
      ]
     },
     "execution_count": 105,
     "metadata": {},
     "output_type": "execute_result"
    }
   ],
   "source": [
    "similar[0]"
   ]
  },
  {
   "cell_type": "code",
   "execution_count": 107,
   "metadata": {},
   "outputs": [
    {
     "data": {
      "text/plain": [
       "9996"
      ]
     },
     "execution_count": 107,
     "metadata": {},
     "output_type": "execute_result"
    }
   ],
   "source": [
    "df[df['song']=='Part-Time Lover'].index[0]"
   ]
  },
  {
   "cell_type": "markdown",
   "metadata": {},
   "source": [
    "##### Recommender Function  "
   ]
  },
  {
   "cell_type": "markdown",
   "metadata": {},
   "source": [
    "```python\n",
    "distance = sorted(\n",
    "    list(enumerate(similar[idx])),\n",
    "    reverse=True,\n",
    "    key=lambda x: x[1]\n",
    ")\n",
    "\n",
    "The line of code calculates the similarity distance between the input song and all other songs in the dataset. \n",
    "\n",
    "1. `similar` seems to be a 2D array or a list of lists, where `similar[idx]` retrieves the similarity scores of the input song with all other songs. \n",
    "\n",
    "2. The `enumerate` function adds a counter to an iterable and returns it as an enumerate object. In this case, it enumerates over the similarity scores.\n",
    "\n",
    "3. The `sorted` function then sorts these similarities in descending order. The `reverse=True` parameter indicates that the sorting should be in descending order.\n",
    "\n",
    "4. The `key=lambda x: x[1]` parameter specifies that the sorting should be based on the second element of each tuple within the list (which represents the similarity score).\n"
   ]
  },
  {
   "cell_type": "code",
   "execution_count": 108,
   "metadata": {},
   "outputs": [],
   "source": [
    "def recommender(song_name):\n",
    "    idx=df[df['song']==song_name].index[0] #### check the id of each song \n",
    "    distance=sorted(list(enumerate(similar[idx])) , reverse=True, key=lambda x:x[1]) #### Distance Calculation \n",
    "    song=[]\n",
    "    for s_id in distance[1:5]:     ### see the top 5 \n",
    "        song.append(df.iloc[s_id[0]].song)\n",
    "    return song    \n"
   ]
  },
  {
   "cell_type": "code",
   "execution_count": 109,
   "metadata": {},
   "outputs": [
    {
     "data": {
      "text/plain": [
       "['Lover Come Back', 'Like Lovers Do', 'No Money Down', 'Lovers On The Sun']"
      ]
     },
     "execution_count": 109,
     "metadata": {},
     "output_type": "execute_result"
    }
   ],
   "source": [
    "recommender('Part-Time Lover')"
   ]
  },
  {
   "cell_type": "code",
   "execution_count": 111,
   "metadata": {},
   "outputs": [],
   "source": [
    "pickle.dump(similar,open(\"similarity\",'wb'))"
   ]
  },
  {
   "cell_type": "code",
   "execution_count": 112,
   "metadata": {},
   "outputs": [],
   "source": [
    "pickle.dump(df,open(\"df\",'wb'))"
   ]
  }
 ],
 "metadata": {
  "kernelspec": {
   "display_name": "base",
   "language": "python",
   "name": "python3"
  },
  "language_info": {
   "codemirror_mode": {
    "name": "ipython",
    "version": 3
   },
   "file_extension": ".py",
   "mimetype": "text/x-python",
   "name": "python",
   "nbconvert_exporter": "python",
   "pygments_lexer": "ipython3",
   "version": "3.10.9"
  }
 },
 "nbformat": 4,
 "nbformat_minor": 2
}
