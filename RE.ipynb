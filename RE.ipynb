{
 "cells": [
  {
   "cell_type": "code",
   "execution_count": 51,
   "metadata": {},
   "outputs": [],
   "source": [
    "#Data Manipulation \n",
    "#===============================================\n",
    "import numpy as np \n",
    "import pandas as pd \n",
    "#Regex \n",
    "#===============================================\n",
    "import re \n",
    "#NLTK\n",
    "#===============================================\n",
    "import nltk\n",
    "from nltk.stem.porter import PorterStemmer\n",
    "#nltk.download('punkt')\n",
    "\n",
    "#Vectorizer\n",
    "#===============================================\n",
    "from sklearn.feature_extraction.text import TfidfVectorizer\n",
    "\n",
    "#similarity_score\n",
    "#===============================================\n",
    "from sklearn.metrics.pairwise import cosine_similarity\n",
    "#model\n",
    "#===============================================\n",
    "from sklearn.neighbors import NearestNeighbors\n"
   ]
  },
  {
   "cell_type": "code",
   "execution_count": 29,
   "metadata": {},
   "outputs": [
    {
     "data": {
      "text/html": [
       "<div>\n",
       "<style scoped>\n",
       "    .dataframe tbody tr th:only-of-type {\n",
       "        vertical-align: middle;\n",
       "    }\n",
       "\n",
       "    .dataframe tbody tr th {\n",
       "        vertical-align: top;\n",
       "    }\n",
       "\n",
       "    .dataframe thead th {\n",
       "        text-align: right;\n",
       "    }\n",
       "</style>\n",
       "<table border=\"1\" class=\"dataframe\">\n",
       "  <thead>\n",
       "    <tr style=\"text-align: right;\">\n",
       "      <th></th>\n",
       "      <th>artist</th>\n",
       "      <th>song</th>\n",
       "      <th>link</th>\n",
       "      <th>text</th>\n",
       "    </tr>\n",
       "  </thead>\n",
       "  <tbody>\n",
       "    <tr>\n",
       "      <th>0</th>\n",
       "      <td>ABBA</td>\n",
       "      <td>Ahe's My Kind Of Girl</td>\n",
       "      <td>/a/abba/ahes+my+kind+of+girl_20598417.html</td>\n",
       "      <td>Look at her face, it's a wonderful face  \\r\\nA...</td>\n",
       "    </tr>\n",
       "    <tr>\n",
       "      <th>1</th>\n",
       "      <td>ABBA</td>\n",
       "      <td>Andante, Andante</td>\n",
       "      <td>/a/abba/andante+andante_20002708.html</td>\n",
       "      <td>Take it easy with me, please  \\r\\nTouch me gen...</td>\n",
       "    </tr>\n",
       "    <tr>\n",
       "      <th>2</th>\n",
       "      <td>ABBA</td>\n",
       "      <td>As Good As New</td>\n",
       "      <td>/a/abba/as+good+as+new_20003033.html</td>\n",
       "      <td>I'll never know why I had to go  \\r\\nWhy I had...</td>\n",
       "    </tr>\n",
       "    <tr>\n",
       "      <th>3</th>\n",
       "      <td>ABBA</td>\n",
       "      <td>Bang</td>\n",
       "      <td>/a/abba/bang_20598415.html</td>\n",
       "      <td>Making somebody happy is a question of give an...</td>\n",
       "    </tr>\n",
       "    <tr>\n",
       "      <th>4</th>\n",
       "      <td>ABBA</td>\n",
       "      <td>Bang-A-Boomerang</td>\n",
       "      <td>/a/abba/bang+a+boomerang_20002668.html</td>\n",
       "      <td>Making somebody happy is a question of give an...</td>\n",
       "    </tr>\n",
       "  </tbody>\n",
       "</table>\n",
       "</div>"
      ],
      "text/plain": [
       "  artist                   song                                        link  \\\n",
       "0   ABBA  Ahe's My Kind Of Girl  /a/abba/ahes+my+kind+of+girl_20598417.html   \n",
       "1   ABBA       Andante, Andante       /a/abba/andante+andante_20002708.html   \n",
       "2   ABBA         As Good As New        /a/abba/as+good+as+new_20003033.html   \n",
       "3   ABBA                   Bang                  /a/abba/bang_20598415.html   \n",
       "4   ABBA       Bang-A-Boomerang      /a/abba/bang+a+boomerang_20002668.html   \n",
       "\n",
       "                                                text  \n",
       "0  Look at her face, it's a wonderful face  \\r\\nA...  \n",
       "1  Take it easy with me, please  \\r\\nTouch me gen...  \n",
       "2  I'll never know why I had to go  \\r\\nWhy I had...  \n",
       "3  Making somebody happy is a question of give an...  \n",
       "4  Making somebody happy is a question of give an...  "
      ]
     },
     "execution_count": 29,
     "metadata": {},
     "output_type": "execute_result"
    }
   ],
   "source": [
    "df=pd.read_csv('E:/My_Project/CodeAlpha/Task 1/My_Data/spotify_millsongdata.csv')\n",
    "df.head()"
   ]
  },
  {
   "cell_type": "code",
   "execution_count": 30,
   "metadata": {},
   "outputs": [
    {
     "data": {
      "text/html": [
       "<div>\n",
       "<style scoped>\n",
       "    .dataframe tbody tr th:only-of-type {\n",
       "        vertical-align: middle;\n",
       "    }\n",
       "\n",
       "    .dataframe tbody tr th {\n",
       "        vertical-align: top;\n",
       "    }\n",
       "\n",
       "    .dataframe thead th {\n",
       "        text-align: right;\n",
       "    }\n",
       "</style>\n",
       "<table border=\"1\" class=\"dataframe\">\n",
       "  <thead>\n",
       "    <tr style=\"text-align: right;\">\n",
       "      <th></th>\n",
       "      <th>artist</th>\n",
       "      <th>song</th>\n",
       "      <th>link</th>\n",
       "      <th>text</th>\n",
       "    </tr>\n",
       "  </thead>\n",
       "  <tbody>\n",
       "    <tr>\n",
       "      <th>57645</th>\n",
       "      <td>Ziggy Marley</td>\n",
       "      <td>Good Old Days</td>\n",
       "      <td>/z/ziggy+marley/good+old+days_10198588.html</td>\n",
       "      <td>Irie days come on play  \\r\\nLet the angels fly...</td>\n",
       "    </tr>\n",
       "    <tr>\n",
       "      <th>57646</th>\n",
       "      <td>Ziggy Marley</td>\n",
       "      <td>Hand To Mouth</td>\n",
       "      <td>/z/ziggy+marley/hand+to+mouth_20531167.html</td>\n",
       "      <td>Power to the workers  \\r\\nMore power  \\r\\nPowe...</td>\n",
       "    </tr>\n",
       "    <tr>\n",
       "      <th>57647</th>\n",
       "      <td>Zwan</td>\n",
       "      <td>Come With Me</td>\n",
       "      <td>/z/zwan/come+with+me_20148981.html</td>\n",
       "      <td>all you need  \\r\\nis something i'll believe  \\...</td>\n",
       "    </tr>\n",
       "    <tr>\n",
       "      <th>57648</th>\n",
       "      <td>Zwan</td>\n",
       "      <td>Desire</td>\n",
       "      <td>/z/zwan/desire_20148986.html</td>\n",
       "      <td>northern star  \\r\\nam i frightened  \\r\\nwhere ...</td>\n",
       "    </tr>\n",
       "    <tr>\n",
       "      <th>57649</th>\n",
       "      <td>Zwan</td>\n",
       "      <td>Heartsong</td>\n",
       "      <td>/z/zwan/heartsong_20148991.html</td>\n",
       "      <td>come in  \\r\\nmake yourself at home  \\r\\ni'm a ...</td>\n",
       "    </tr>\n",
       "  </tbody>\n",
       "</table>\n",
       "</div>"
      ],
      "text/plain": [
       "             artist           song  \\\n",
       "57645  Ziggy Marley  Good Old Days   \n",
       "57646  Ziggy Marley  Hand To Mouth   \n",
       "57647          Zwan   Come With Me   \n",
       "57648          Zwan         Desire   \n",
       "57649          Zwan      Heartsong   \n",
       "\n",
       "                                              link  \\\n",
       "57645  /z/ziggy+marley/good+old+days_10198588.html   \n",
       "57646  /z/ziggy+marley/hand+to+mouth_20531167.html   \n",
       "57647           /z/zwan/come+with+me_20148981.html   \n",
       "57648                 /z/zwan/desire_20148986.html   \n",
       "57649              /z/zwan/heartsong_20148991.html   \n",
       "\n",
       "                                                    text  \n",
       "57645  Irie days come on play  \\r\\nLet the angels fly...  \n",
       "57646  Power to the workers  \\r\\nMore power  \\r\\nPowe...  \n",
       "57647  all you need  \\r\\nis something i'll believe  \\...  \n",
       "57648  northern star  \\r\\nam i frightened  \\r\\nwhere ...  \n",
       "57649  come in  \\r\\nmake yourself at home  \\r\\ni'm a ...  "
      ]
     },
     "execution_count": 30,
     "metadata": {},
     "output_type": "execute_result"
    }
   ],
   "source": [
    "df.tail()"
   ]
  },
  {
   "cell_type": "code",
   "execution_count": 31,
   "metadata": {},
   "outputs": [
    {
     "data": {
      "text/plain": [
       "(57650, 4)"
      ]
     },
     "execution_count": 31,
     "metadata": {},
     "output_type": "execute_result"
    }
   ],
   "source": [
    "df.shape"
   ]
  },
  {
   "cell_type": "code",
   "execution_count": 32,
   "metadata": {},
   "outputs": [
    {
     "data": {
      "text/plain": [
       "artist    0\n",
       "song      0\n",
       "link      0\n",
       "text      0\n",
       "dtype: int64"
      ]
     },
     "execution_count": 32,
     "metadata": {},
     "output_type": "execute_result"
    }
   ],
   "source": [
    "df.isnull().sum()"
   ]
  },
  {
   "cell_type": "code",
   "execution_count": 33,
   "metadata": {},
   "outputs": [],
   "source": [
    "df=df.sample(10000)"
   ]
  },
  {
   "cell_type": "code",
   "execution_count": 34,
   "metadata": {},
   "outputs": [
    {
     "data": {
      "text/plain": [
       "(10000, 4)"
      ]
     },
     "execution_count": 34,
     "metadata": {},
     "output_type": "execute_result"
    }
   ],
   "source": [
    "df.shape"
   ]
  },
  {
   "cell_type": "code",
   "execution_count": 35,
   "metadata": {},
   "outputs": [],
   "source": [
    "df.drop(columns=['link'],axis=1,inplace=True)"
   ]
  },
  {
   "cell_type": "code",
   "execution_count": 37,
   "metadata": {},
   "outputs": [
    {
     "data": {
      "text/html": [
       "<div>\n",
       "<style scoped>\n",
       "    .dataframe tbody tr th:only-of-type {\n",
       "        vertical-align: middle;\n",
       "    }\n",
       "\n",
       "    .dataframe tbody tr th {\n",
       "        vertical-align: top;\n",
       "    }\n",
       "\n",
       "    .dataframe thead th {\n",
       "        text-align: right;\n",
       "    }\n",
       "</style>\n",
       "<table border=\"1\" class=\"dataframe\">\n",
       "  <thead>\n",
       "    <tr style=\"text-align: right;\">\n",
       "      <th></th>\n",
       "      <th>artist</th>\n",
       "      <th>song</th>\n",
       "      <th>text</th>\n",
       "    </tr>\n",
       "  </thead>\n",
       "  <tbody>\n",
       "    <tr>\n",
       "      <th>41397</th>\n",
       "      <td>Lenny Kravitz</td>\n",
       "      <td>Are You Gonna Go My Way</td>\n",
       "      <td>Intro after 8  \\r\\n  \\r\\nI was born, long ago ...</td>\n",
       "    </tr>\n",
       "    <tr>\n",
       "      <th>36201</th>\n",
       "      <td>Horrible Histories</td>\n",
       "      <td>English Civil War</td>\n",
       "      <td>We are the Roundheads, we don't want kings no ...</td>\n",
       "    </tr>\n",
       "    <tr>\n",
       "      <th>30990</th>\n",
       "      <td>Ella Fitzgerald</td>\n",
       "      <td>Dancing On The Ceiling</td>\n",
       "      <td>The world is lyrical  \\r\\nBecause a miracle  \\...</td>\n",
       "    </tr>\n",
       "    <tr>\n",
       "      <th>31516</th>\n",
       "      <td>Emmylou Harris</td>\n",
       "      <td>Just Someone I Used To Know</td>\n",
       "      <td>There's a picture that I carry  \\r\\nOne we mad...</td>\n",
       "    </tr>\n",
       "    <tr>\n",
       "      <th>21672</th>\n",
       "      <td>Within Temptation</td>\n",
       "      <td>A Dangerous Mind</td>\n",
       "      <td>I'm searching for answers  \\r\\n'Cause somethin...</td>\n",
       "    </tr>\n",
       "  </tbody>\n",
       "</table>\n",
       "</div>"
      ],
      "text/plain": [
       "                   artist                         song  \\\n",
       "41397       Lenny Kravitz      Are You Gonna Go My Way   \n",
       "36201  Horrible Histories            English Civil War   \n",
       "30990     Ella Fitzgerald       Dancing On The Ceiling   \n",
       "31516      Emmylou Harris  Just Someone I Used To Know   \n",
       "21672   Within Temptation             A Dangerous Mind   \n",
       "\n",
       "                                                    text  \n",
       "41397  Intro after 8  \\r\\n  \\r\\nI was born, long ago ...  \n",
       "36201  We are the Roundheads, we don't want kings no ...  \n",
       "30990  The world is lyrical  \\r\\nBecause a miracle  \\...  \n",
       "31516  There's a picture that I carry  \\r\\nOne we mad...  \n",
       "21672  I'm searching for answers  \\r\\n'Cause somethin...  "
      ]
     },
     "execution_count": 37,
     "metadata": {},
     "output_type": "execute_result"
    }
   ],
   "source": [
    "df.head()"
   ]
  },
  {
   "cell_type": "code",
   "execution_count": 39,
   "metadata": {},
   "outputs": [
    {
     "data": {
      "text/plain": [
       "'Intro after 8  \\r\\n  \\r\\nI was born, long ago  \\r\\nI am the chosen, I\\'m the one  \\r\\nI have come, to save the day  \\r\\nAnd I won\\'t leave until I\\'m done  \\r\\n  \\r\\nSo that\\'s why, you\\'ve got to try  \\r\\nYou got to breath and have some fun  \\r\\nThough I\\'m not paid, I play this game  \\r\\nAnd I won\\'t stop until I\\'m done  \\r\\n  \\r\\nBut what I really want to know is  \\r\\nAre you gonna go my way?  \\r\\nAnd I got to got to know  \\r\\n  \\r\\nI don\\'t know why, we always cry  \\r\\nThis we must leave and get undone  \\r\\nWe must engage, and rearrange  \\r\\nAnd turn this planet back to one  \\r\\n  \\r\\nSo tell me why, we got to die  \\r\\nAnd kill each other one by one  \\r\\nWe\\'ve got to love, and rub-a-dub  \\r\\nWe\\'ve got to dance and be in love  \\r\\n  \\r\\nBut what I really want to know is  \\r\\nAre you gonna go my way?  \\r\\nAnd I got to got to know  \\r\\n  \\r\\nSolo after solo on after nine with pause then  \\r\\n  \\r\\nAre you gonna go my way?  \\r\\n\\'Cause baby I got to know \"talk\"  \\r\\nYeah\\r\\n\\r\\n'"
      ]
     },
     "execution_count": 39,
     "metadata": {},
     "output_type": "execute_result"
    }
   ],
   "source": [
    "df['text'][41397]"
   ]
  },
  {
   "cell_type": "markdown",
   "metadata": {},
   "source": [
    "#### Text Preprocessing "
   ]
  },
  {
   "cell_type": "code",
   "execution_count": 40,
   "metadata": {},
   "outputs": [],
   "source": [
    "df['text']=df['text'].str.lower().replace(r\"^\\w\\s\",\"\").replace(r'\\n','',regex=True)"
   ]
  },
  {
   "cell_type": "code",
   "execution_count": 41,
   "metadata": {},
   "outputs": [
    {
     "data": {
      "text/plain": [
       "41397    intro after 8  \\r  \\ri was born, long ago  \\ri...\n",
       "36201    we are the roundheads, we don't want kings no ...\n",
       "30990    the world is lyrical  \\rbecause a miracle  \\rh...\n",
       "31516    there's a picture that i carry  \\rone we made ...\n",
       "21672    i'm searching for answers  \\r'cause something ...\n",
       "                               ...                        \n",
       "10268    my heart is true, but the road is long  \\rand ...\n",
       "48057    let is snow, let is snow  \\r  \\rthe weather ou...\n",
       "4327     woke up with a heavy head  \\rand i thought abo...\n",
       "23651    sitting all alone with my whisky on ice,  \\ri ...\n",
       "33691    you've stolen my world from under me my cheati...\n",
       "Name: text, Length: 10000, dtype: object"
      ]
     },
     "execution_count": 41,
     "metadata": {},
     "output_type": "execute_result"
    }
   ],
   "source": [
    "df['text']"
   ]
  },
  {
   "cell_type": "code",
   "execution_count": 43,
   "metadata": {},
   "outputs": [],
   "source": [
    "stemmer=PorterStemmer()"
   ]
  },
  {
   "cell_type": "code",
   "execution_count": 44,
   "metadata": {},
   "outputs": [],
   "source": [
    "def token(txt):\n",
    "    token=nltk.word_tokenize(txt) \n",
    "    a=[stemmer.stem(i)  for i in token]\n",
    "    return \" \".join(a)"
   ]
  },
  {
   "cell_type": "code",
   "execution_count": 45,
   "metadata": {},
   "outputs": [],
   "source": [
    "df['text']=df['text'].apply(lambda x : token(x))  "
   ]
  },
  {
   "cell_type": "code",
   "execution_count": 46,
   "metadata": {},
   "outputs": [
    {
     "data": {
      "text/plain": [
       "41397    intro after 8 i wa born , long ago i am the ch...\n",
       "36201    we are the roundhead , we do n't want king no ...\n",
       "30990    the world is lyric becaus a miracl ha brought ...\n",
       "31516    there 's a pictur that i carri one we made som...\n",
       "21672    i 'm search for answer 'caus someth is not rig...\n",
       "                               ...                        \n",
       "10268    my heart is true , but the road is long and i ...\n",
       "48057    let is snow , let is snow the weather outsid i...\n",
       "4327     woke up with a heavi head and i thought about ...\n",
       "23651    sit all alon with my whiski on ice , i wonder ...\n",
       "33691    you 've stolen my world from under me my cheat...\n",
       "Name: text, Length: 10000, dtype: object"
      ]
     },
     "execution_count": 46,
     "metadata": {},
     "output_type": "execute_result"
    }
   ],
   "source": [
    "df['text']"
   ]
  },
  {
   "cell_type": "markdown",
   "metadata": {},
   "source": [
    "#####  Vectorizer "
   ]
  },
  {
   "cell_type": "code",
   "execution_count": 48,
   "metadata": {},
   "outputs": [],
   "source": [
    "tfidf=TfidfVectorizer(analyzer='word',stop_words='english') "
   ]
  },
  {
   "cell_type": "code",
   "execution_count": 53,
   "metadata": {},
   "outputs": [],
   "source": [
    "matrix=tfidf.fit_transform(df['text'])"
   ]
  },
  {
   "cell_type": "code",
   "execution_count": 67,
   "metadata": {},
   "outputs": [
    {
     "name": "stdout",
     "output_type": "stream",
     "text": [
      "Recommended songs for the next play:\n",
      "1. Low Ceiling\n",
      "2. I Am Not Willing\n",
      "3. Lover Man\n",
      "4. I Just Wanna Dance With You\n",
      "5. Love Them Girls\n",
      "6. I Don't Want To Be Your Lover\n",
      "7. All In Love Is Fair\n",
      "8. Daughter Of Mine\n",
      "9. Loved\n",
      "10. Mr Loverboy\n"
     ]
    }
   ],
   "source": [
    "def similar_songs(df, k, song_name):\n",
    "    # Build a NearestNeighbors model\n",
    "    kNN = NearestNeighbors(n_neighbors=k+1, algorithm=\"brute\", metric='cosine')\n",
    "    \n",
    "    # Fit the model\n",
    "    kNN.fit(matrix.toarray())  # Convert matrix to dense representation\n",
    "    \n",
    "    # Find the index of the song in the DataFrame\n",
    "    song_index = df.index[df['song'] == song_name].tolist()[0]\n",
    "    \n",
    "    # Reshape the input array to have correct dimensionality\n",
    "    song_matrix = matrix[song_index].toarray().reshape(1, -1)\n",
    "    \n",
    "    # Find the closest neighbors using .kneighbors and passing the row corresponding to the song\n",
    "    recs = kNN.kneighbors(song_matrix, return_distance=False)[0]\n",
    "    \n",
    "    # Find the titles of the song ids\n",
    "    recs_names = [df.iloc[i][\"song\"] for i in recs]\n",
    "    recs_names = [m for m in recs_names if m != song_name]\n",
    "    \n",
    "    # Return a list with the recommended song titles\n",
    "    return recs_names\n",
    "\n",
    "# Example usage:\n",
    "num_similar_songs = 10\n",
    "current_song_name = 'Dancing On The Ceiling'  # Name of the current song\n",
    "recommendations = similar_songs(df, num_similar_songs, current_song_name)\n",
    "\n",
    "print(\"Recommended songs for the next play:\")\n",
    "for idx, song in enumerate(recommendations, start=1):\n",
    "    print(f\"{idx}. {song}\")\n"
   ]
  },
  {
   "cell_type": "code",
   "execution_count": null,
   "metadata": {},
   "outputs": [],
   "source": []
  }
 ],
 "metadata": {
  "kernelspec": {
   "display_name": "base",
   "language": "python",
   "name": "python3"
  },
  "language_info": {
   "codemirror_mode": {
    "name": "ipython",
    "version": 3
   },
   "file_extension": ".py",
   "mimetype": "text/x-python",
   "name": "python",
   "nbconvert_exporter": "python",
   "pygments_lexer": "ipython3",
   "version": "3.10.9"
  }
 },
 "nbformat": 4,
 "nbformat_minor": 2
}
